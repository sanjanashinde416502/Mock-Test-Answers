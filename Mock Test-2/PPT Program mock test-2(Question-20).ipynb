{
 "cells": [
  {
   "cell_type": "markdown",
   "id": "1c72174e-3850-4a14-bdb0-6e26394a676e",
   "metadata": {},
   "source": [
    "Q.20 Write a function called ‘perform_hypothesis_test’ that takes two lists of numbers as input, representing two samples. The function should perform a two-sample t-test and return the p-value. Use the ‘scipy.stats’ module in Python to calculate the t-test and p-value.<br>\n",
    "\n",
    "Example:<br>\n",
    "\n",
    "from scipy import stats<br>\n",
    "\n",
    "def perform_hypothesis_test(sample1, sample2):<br>\n",
    "    t_statistic, p_value = stats.ttest_ind(sample1, sample2)<br>\n",
    "    return p_value<br>\n",
    "\n",
    "sample1 = [5, 10, 15, 20, 25]<br>\n",
    "sample2 = [10, 20, 30, 40, 50]<br>\n",
    "p_value = perform_hypothesis_test(sample1, sample2)<br>\n",
    "print(\"P-value:\", p_value)<br>\n",
    "\n",
    "Output:<br>\n",
    "P-value: 0.1064706396450037"
   ]
  },
  {
   "cell_type": "code",
   "execution_count": 4,
   "id": "cb0c71f6-c9e3-4eab-96cb-05d4b770b63c",
   "metadata": {},
   "outputs": [
    {
     "name": "stdout",
     "output_type": "stream",
     "text": [
      "P_value: 0.001052825793366539\n"
     ]
    }
   ],
   "source": [
    "# Ans:\n",
    "from scipy import stats\n",
    "def perform_hypothesis_test(sample_list1,sample_list2):\n",
    "    t_statistic,p_value=stats.ttest_ind(sample_list1,sample_list2)\n",
    "    return p_value\n",
    "\n",
    "sample_list1=[1,2,3,4,5]\n",
    "sample_list2=[6,7,8,9,10]\n",
    "output=perform_hypothesis_test(sample_list1,sample_list2)\n",
    "print(\"P_value:\",output)   "
   ]
  },
  {
   "cell_type": "code",
   "execution_count": null,
   "id": "3fcc8d60-ac8b-41fb-8339-833adc4604ab",
   "metadata": {},
   "outputs": [],
   "source": []
  }
 ],
 "metadata": {
  "kernelspec": {
   "display_name": "Python 3 (ipykernel)",
   "language": "python",
   "name": "python3"
  },
  "language_info": {
   "codemirror_mode": {
    "name": "ipython",
    "version": 3
   },
   "file_extension": ".py",
   "mimetype": "text/x-python",
   "name": "python",
   "nbconvert_exporter": "python",
   "pygments_lexer": "ipython3",
   "version": "3.10.8"
  }
 },
 "nbformat": 4,
 "nbformat_minor": 5
}

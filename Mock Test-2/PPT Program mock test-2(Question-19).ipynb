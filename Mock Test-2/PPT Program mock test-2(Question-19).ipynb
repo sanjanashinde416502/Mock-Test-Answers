{
 "cells": [
  {
   "cell_type": "markdown",
   "id": "a7057a53-6207-42d5-8861-9771c7b39907",
   "metadata": {},
   "source": [
    "Q.19 Write a function called ‘calculate_mean’ that takes a list of numbers as input and returns the mean (average) of the numbers. The function should calculate the mean using the sum of the numbers divided by the total count.<br>\n",
    "\n",
    "Example:<br>\n",
    "\n",
    "def calculate_mean(numbers):<br>\n",
    "    total = sum(numbers)<br>\n",
    "    count = len(numbers)<br>\n",
    "    mean = total / count<br>\n",
    "    return mean<br>\n",
    "\n",
    "data = [10, 15, 20, 25, 30]<br>\n",
    "mean_value = calculate_mean(data)<br>\n",
    "print(\"Mean:\", mean_value)<br>\n",
    "\n",
    "Output:<br>\n",
    "Mean: 20.0"
   ]
  },
  {
   "cell_type": "code",
   "execution_count": 10,
   "id": "d96e609d-f576-4eb7-a5d6-f25993f7801b",
   "metadata": {},
   "outputs": [
    {
     "name": "stdout",
     "output_type": "stream",
     "text": [
      "Mean: 20.0\n"
     ]
    }
   ],
   "source": [
    "# Ans:\n",
    "def calculate_mean(data):\n",
    "    total_sum=sum(data)\n",
    "    count=len(data)\n",
    "    mean=total_sum/count\n",
    "    return mean\n",
    "data= [10, 15, 20, 25, 30]\n",
    "output=calculate_mean(data)\n",
    "print(\"Mean:\",output)"
   ]
  },
  {
   "cell_type": "code",
   "execution_count": null,
   "id": "f9982372-83a2-453a-98cb-902e923b1967",
   "metadata": {},
   "outputs": [],
   "source": []
  }
 ],
 "metadata": {
  "kernelspec": {
   "display_name": "Python 3 (ipykernel)",
   "language": "python",
   "name": "python3"
  },
  "language_info": {
   "codemirror_mode": {
    "name": "ipython",
    "version": 3
   },
   "file_extension": ".py",
   "mimetype": "text/x-python",
   "name": "python",
   "nbconvert_exporter": "python",
   "pygments_lexer": "ipython3",
   "version": "3.10.8"
  }
 },
 "nbformat": 4,
 "nbformat_minor": 5
}

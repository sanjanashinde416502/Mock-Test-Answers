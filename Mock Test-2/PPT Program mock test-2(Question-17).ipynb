{
 "cells": [
  {
   "cell_type": "markdown",
   "id": "fb792a32-d293-4969-87e4-af79d35decbf",
   "metadata": {},
   "source": [
    "Q.17 Write a function that takes a list of numbers as input and returns a new list containing only the even numbers from the input list. Use list comprehension to solve this problem.\n",
    "\n",
    "Example:\n",
    "\n",
    "Input: [1, 2, 3, 4, 5, 6, 7, 8, 9, 10]\n",
    "\n",
    "Output: [2, 4, 6, 8, 10]"
   ]
  },
  {
   "cell_type": "code",
   "execution_count": 5,
   "id": "3bc73523-ce7f-4232-a619-8d89e6a01f1f",
   "metadata": {},
   "outputs": [
    {
     "name": "stdout",
     "output_type": "stream",
     "text": [
      "Output: [2, 4, 6, 8, 10]\n"
     ]
    }
   ],
   "source": [
    "# Ans:\n",
    "def find_even_numbers(num):\n",
    "    even_no=[x for x in num if x%2==0]\n",
    "    return even_no\n",
    "\n",
    "num=[1, 2, 3, 4, 5, 6, 7, 8, 9, 10]\n",
    "output=find_even_numbers(num)\n",
    "print(\"Output:\",output)"
   ]
  },
  {
   "cell_type": "code",
   "execution_count": null,
   "id": "963d91ad-5357-4c03-8fca-3542de40b79a",
   "metadata": {},
   "outputs": [],
   "source": []
  }
 ],
 "metadata": {
  "kernelspec": {
   "display_name": "Python 3 (ipykernel)",
   "language": "python",
   "name": "python3"
  },
  "language_info": {
   "codemirror_mode": {
    "name": "ipython",
    "version": 3
   },
   "file_extension": ".py",
   "mimetype": "text/x-python",
   "name": "python",
   "nbconvert_exporter": "python",
   "pygments_lexer": "ipython3",
   "version": "3.10.8"
  }
 },
 "nbformat": 4,
 "nbformat_minor": 5
}

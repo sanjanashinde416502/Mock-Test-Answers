{
 "cells": [
  {
   "cell_type": "markdown",
   "id": "969e41ba-d459-463d-b28c-f525cc453875",
   "metadata": {},
   "source": [
    "Q.1 Given an integer array nums, move all 0's to the end of it while maintaining the relative order of the non-zero elements.\n",
    "\n",
    "Note that you must do this in-place without making a copy of the array.\n",
    "\n",
    "Example 1:<br>\n",
    "Input: nums = [0,1,0,3,12]<br>\n",
    "Output: [1,3,12,0,0]<br>"
   ]
  },
  {
   "cell_type": "code",
   "execution_count": 6,
   "id": "c5d06ae7-fdf4-4227-a707-09b8f18e241f",
   "metadata": {},
   "outputs": [
    {
     "name": "stdout",
     "output_type": "stream",
     "text": [
      "Output: [1, 3, 12, 0, 0]\n"
     ]
    }
   ],
   "source": [
    "def moveZeroes(nums):\n",
    "    i = 0\n",
    "    j = 0\n",
    "\n",
    "    # Move non-zero elements to the front\n",
    "    while i < len(nums):\n",
    "        if nums[i] != 0:\n",
    "            nums[j] = nums[i]\n",
    "            j += 1\n",
    "        i += 1\n",
    "\n",
    "    # Fill remaining positions with zeros\n",
    "    while j < len(nums):\n",
    "        nums[j] = 0\n",
    "        j += 1\n",
    "\n",
    "# Example usage\n",
    "nums = [0, 1, 0, 3, 12]\n",
    "moveZeroes(nums)\n",
    "print(\"Output:\",nums)"
   ]
  },
  {
   "cell_type": "markdown",
   "id": "bc1b4dde-3b6b-43eb-ab3b-f5d3572c7361",
   "metadata": {},
   "source": [
    "Example 2:<br>\n",
    "Input: nums = [0]<br>\n",
    "Output: [0]<br>\n",
    "\n",
    "Constraints:<br>\n",
    "a. 1 <= nums.length <= 10^4<br>\n",
    "b. -2^31 <= nums[i] <= 2^31 - 1<br>\n"
   ]
  },
  {
   "cell_type": "code",
   "execution_count": 5,
   "id": "4a062375-1ed2-41c1-9530-d407887e003f",
   "metadata": {},
   "outputs": [
    {
     "name": "stdout",
     "output_type": "stream",
     "text": [
      "Output: [0]\n"
     ]
    }
   ],
   "source": [
    "def moveZeroes(nums):\n",
    "    i = 0\n",
    "    j = 0\n",
    "\n",
    "    # Move non-zero elements to the front\n",
    "    while i < len(nums):\n",
    "        if nums[i] != 0:\n",
    "            nums[j] = nums[i]\n",
    "            j += 1\n",
    "        i += 1\n",
    "\n",
    "    # Fill remaining positions with zeros\n",
    "    while j < len(nums):\n",
    "        nums[j] = 0\n",
    "        j += 1\n",
    "\n",
    "# Example usage\n",
    "nums = [0]\n",
    "moveZeroes(nums)\n",
    "print(\"Output:\",nums)"
   ]
  },
  {
   "cell_type": "code",
   "execution_count": null,
   "id": "5c1e2082-7692-4067-aa2e-35809d4937fb",
   "metadata": {},
   "outputs": [],
   "source": []
  }
 ],
 "metadata": {
  "kernelspec": {
   "display_name": "Python 3 (ipykernel)",
   "language": "python",
   "name": "python3"
  },
  "language_info": {
   "codemirror_mode": {
    "name": "ipython",
    "version": 3
   },
   "file_extension": ".py",
   "mimetype": "text/x-python",
   "name": "python",
   "nbconvert_exporter": "python",
   "pygments_lexer": "ipython3",
   "version": "3.10.8"
  }
 },
 "nbformat": 4,
 "nbformat_minor": 5
}

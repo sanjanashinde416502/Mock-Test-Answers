{
 "cells": [
  {
   "cell_type": "markdown",
   "id": "a83462d7-b5fd-40c7-832d-adba8a746b0a",
   "metadata": {},
   "source": [
    "Q.1 First Unique Character in a String<br>\n",
    "\n",
    "Given a string s, find the first non-repeating character in it and return its index. If it does not exist, return -1.<br>\n",
    "\n",
    "Example 1:<br>\n",
    "Input: s = \"leetcode\"<br>\n",
    "Output: 0<br>"
   ]
  },
  {
   "cell_type": "code",
   "execution_count": 4,
   "id": "405c9e3c-cc1b-4428-930b-4d3039ca3a9b",
   "metadata": {},
   "outputs": [
    {
     "name": "stdout",
     "output_type": "stream",
     "text": [
      "The index of first non-repeating character is : 0\n"
     ]
    }
   ],
   "source": [
    "def firstUniqChar(s):\n",
    "    char_freq = {}\n",
    "\n",
    "    # Count the frequency of each character\n",
    "    for char in s:\n",
    "        if char in char_freq:\n",
    "            char_freq[char] += 1\n",
    "        else:\n",
    "            char_freq[char] = 1\n",
    "\n",
    "    # Find the first non-repeating character\n",
    "    for i, char in enumerate(s):\n",
    "        if char_freq[char] == 1:\n",
    "            return i\n",
    "\n",
    "    return -1\n",
    "\n",
    "s = \"leetcode\"\n",
    "print(\"The index of first non-repeating character is :\",firstUniqChar(s))"
   ]
  },
  {
   "cell_type": "markdown",
   "id": "5430feab-fe0b-4a6e-b1fe-d2e32e85f43c",
   "metadata": {},
   "source": [
    "Example 2:<br>\n",
    "Input: s = \"loveleetcode\"<br>\n",
    "Output: 2<br>"
   ]
  },
  {
   "cell_type": "code",
   "execution_count": 11,
   "id": "65d38576-fddb-4f84-ba4a-d770ff031718",
   "metadata": {},
   "outputs": [
    {
     "name": "stdout",
     "output_type": "stream",
     "text": [
      "The index of first non-repeating character is : 2\n"
     ]
    }
   ],
   "source": [
    "def firstUniqChar(s):\n",
    "    char_counts = {}\n",
    "\n",
    "    # Count the frequency of each character\n",
    "    for char in s:\n",
    "        char_counts[char] = char_counts.get(char, 0) + 1\n",
    "\n",
    "    # Find the first non-repeating character\n",
    "    for i, char in enumerate(s):\n",
    "        if char_counts[char] == 1:\n",
    "            return i\n",
    "\n",
    "    return -1\n",
    "\n",
    "# Example usage\n",
    "s = \"loveleetcode\"\n",
    "print(\"The index of first non-repeating character is :\",firstUniqChar(s))"
   ]
  },
  {
   "cell_type": "markdown",
   "id": "13a4c299-3b17-4153-a8f2-4629cf769c4d",
   "metadata": {},
   "source": [
    "Example 3:<br>\n",
    "Input: s = \"aabb\"<br>\n",
    "Output: -1<br>\n",
    "\n",
    "Constraints:<br>\n",
    "a. 1 <= s.length <= 10^5<br>\n",
    "b. s consists of only lowercase English letters."
   ]
  },
  {
   "cell_type": "code",
   "execution_count": 13,
   "id": "16adae4e-874f-4c67-abf4-cb43240ce350",
   "metadata": {},
   "outputs": [
    {
     "name": "stdout",
     "output_type": "stream",
     "text": [
      "Output: -1\n"
     ]
    }
   ],
   "source": [
    "def firstUniqChar(s):\n",
    "    char_counts = {}\n",
    "\n",
    "    # Count the frequency of each character\n",
    "    for char in s:\n",
    "        char_counts[char] = char_counts.get(char, 0) + 1\n",
    "\n",
    "    # Find the first non-repeating character\n",
    "    for i, char in enumerate(s):\n",
    "        if char_counts[char] == 1:\n",
    "            return i\n",
    "\n",
    "    return -1\n",
    "\n",
    "s = \"aabb\"\n",
    "print(\"Output:\",firstUniqChar(s))"
   ]
  },
  {
   "cell_type": "code",
   "execution_count": null,
   "id": "62cfe0ad-c285-4e85-9d7f-7cf7054a78dc",
   "metadata": {},
   "outputs": [],
   "source": []
  }
 ],
 "metadata": {
  "kernelspec": {
   "display_name": "Python 3 (ipykernel)",
   "language": "python",
   "name": "python3"
  },
  "language_info": {
   "codemirror_mode": {
    "name": "ipython",
    "version": 3
   },
   "file_extension": ".py",
   "mimetype": "text/x-python",
   "name": "python",
   "nbconvert_exporter": "python",
   "pygments_lexer": "ipython3",
   "version": "3.10.8"
  }
 },
 "nbformat": 4,
 "nbformat_minor": 5
}
